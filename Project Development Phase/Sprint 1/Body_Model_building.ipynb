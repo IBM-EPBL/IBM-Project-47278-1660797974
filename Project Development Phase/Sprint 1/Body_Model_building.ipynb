{
  "nbformat": 4,
  "nbformat_minor": 0,
  "metadata": {
    "colab": {
      "provenance": [],
      "collapsed_sections": []
    },
    "kernelspec": {
      "name": "python3",
      "display_name": "Python 3"
    },
    "language_info": {
      "name": "python"
    },
    "accelerator": "GPU",
    "gpuClass": "standard"
  },
  "cells": [
    {
      "cell_type": "code",
      "source": [
        "from tensorflow.keras.preprocessing.image import ImageDataGenerator"
      ],
      "metadata": {
        "id": "xn0DsnMBqbAk"
      },
      "execution_count": 1,
      "outputs": []
    },
    {
      "cell_type": "code",
      "source": [
        "train_datagen = ImageDataGenerator(rescale=1./255,shear_range=0.1,zoom_range=0.1,horizontal_flip=True)\n",
        "test_datagen = ImageDataGenerator(rescale = 1./255)"
      ],
      "metadata": {
        "id": "NMNrvYyhq5_x"
      },
      "execution_count": 2,
      "outputs": []
    },
    {
      "cell_type": "code",
      "source": [
        "training_set = train_datagen.flow_from_directory('/content/drive/MyDrive/Car Damage Dataset/body/training',\n",
        "target_size = (256, 256),\n",
        "batch_size = 10,\n",
        "class_mode = 'categorical')\n",
        "\n",
        "test_set = test_datagen.flow_from_directory('/content/drive/MyDrive/Car Damage Dataset/body/validation',\n",
        "target_size = (256, 256),\n",
        "batch_size = 10,\n",
        "class_mode = 'categorical')"
      ],
      "metadata": {
        "colab": {
          "base_uri": "https://localhost:8080/"
        },
        "id": "fsyCPIqZq-cU",
        "outputId": "e103bcba-d97a-4011-a60f-8968686bc658"
      },
      "execution_count": 3,
      "outputs": [
        {
          "output_type": "stream",
          "name": "stdout",
          "text": [
            "Found 979 images belonging to 3 classes.\n",
            "Found 171 images belonging to 3 classes.\n"
          ]
        }
      ]
    },
    {
      "cell_type": "code",
      "source": [
        "from tensorflow.keras.layers import Dense, Flatten, Input\n",
        "from tensorflow.keras.models import Model\n",
        "from tensorflow.keras.preprocessing import image\n",
        "from tensorflow.keras.preprocessing.image import ImageDataGenerator, load_img\n",
        "from tensorflow.keras.applications.vgg16 import VGG16, preprocess_input\n",
        "from glob import glob\n",
        "import numpy as np\n",
        "import matplotlib.pyplot as plt"
      ],
      "metadata": {
        "id": "fNlaQ5DnunO_"
      },
      "execution_count": 4,
      "outputs": []
    },
    {
      "cell_type": "code",
      "source": [
        "vgg = VGG16(input_shape=[256,256] + [3], weights='imagenet',include_top=False)"
      ],
      "metadata": {
        "id": "bgT3cfaTuqOF",
        "colab": {
          "base_uri": "https://localhost:8080/"
        },
        "outputId": "64347d2a-6649-43e7-c045-f942ab4b1020"
      },
      "execution_count": 5,
      "outputs": [
        {
          "output_type": "stream",
          "name": "stdout",
          "text": [
            "Downloading data from https://storage.googleapis.com/tensorflow/keras-applications/vgg16/vgg16_weights_tf_dim_ordering_tf_kernels_notop.h5\n",
            "58889256/58889256 [==============================] - 5s 0us/step\n"
          ]
        }
      ]
    },
    {
      "cell_type": "code",
      "source": [
        "# don't train existing weights\n",
        "for layer in vgg.layers:\n",
        "  layer.trainable = False"
      ],
      "metadata": {
        "id": "FMmDb_Mxuswt"
      },
      "execution_count": 6,
      "outputs": []
    },
    {
      "cell_type": "code",
      "source": [
        "# our Layers - you can add more if you want\n",
        "x = Flatten()(vgg.output)"
      ],
      "metadata": {
        "id": "vP-SPW8cuvJ1"
      },
      "execution_count": 7,
      "outputs": []
    },
    {
      "cell_type": "code",
      "source": [
        "prediction = Dense(3,activation='softmax')(x)"
      ],
      "metadata": {
        "id": "qeNVB_tcuwlv"
      },
      "execution_count": 8,
      "outputs": []
    },
    {
      "cell_type": "code",
      "source": [
        "model1= Model(inputs=vgg.input, outputs=prediction)"
      ],
      "metadata": {
        "id": "ofUzNYWVuyde"
      },
      "execution_count": 9,
      "outputs": []
    },
    {
      "cell_type": "code",
      "source": [
        "model1.compile(loss='categorical_crossentropy', optimizer='adam', metrics=['acc'])"
      ],
      "metadata": {
        "id": "b156soZSu2W0"
      },
      "execution_count": 10,
      "outputs": []
    },
    {
      "cell_type": "code",
      "source": [
        "import sys\n",
        "r=model1.fit_generator(\n",
        "training_set,\n",
        "validation_data=test_set,\n",
        "epochs=100,\n",
        "steps_per_epoch=979//10,\n",
        "validation_steps=171//10)"
      ],
      "metadata": {
        "colab": {
          "base_uri": "https://localhost:8080/"
        },
        "id": "7WqpQGWFu5nc",
        "outputId": "b255cb25-7d8b-4619-bee9-bc7a6e605f67"
      },
      "execution_count": null,
      "outputs": [
        {
          "output_type": "stream",
          "name": "stderr",
          "text": [
            "/usr/local/lib/python3.7/dist-packages/ipykernel_launcher.py:7: UserWarning: `Model.fit_generator` is deprecated and will be removed in a future version. Please use `Model.fit`, which supports generators.\n",
            "  import sys\n"
          ]
        },
        {
          "output_type": "stream",
          "name": "stdout",
          "text": [
            "Epoch 1/100\n",
            "97/97 [==============================] - 20s 203ms/step - loss: 1.2468 - acc: 0.5418 - val_loss: 1.0699 - val_acc: 0.6412\n",
            "Epoch 2/100\n",
            "97/97 [==============================] - 19s 193ms/step - loss: 0.7592 - acc: 0.7441 - val_loss: 1.6222 - val_acc: 0.5765\n",
            "Epoch 3/100\n",
            "97/97 [==============================] - 19s 193ms/step - loss: 0.6435 - acc: 0.7946 - val_loss: 1.6233 - val_acc: 0.6059\n",
            "Epoch 4/100\n",
            "97/97 [==============================] - 19s 192ms/step - loss: 0.4110 - acc: 0.8524 - val_loss: 1.0407 - val_acc: 0.6412\n",
            "Epoch 5/100\n",
            "97/97 [==============================] - 19s 193ms/step - loss: 0.3594 - acc: 0.8679 - val_loss: 1.1046 - val_acc: 0.6412\n",
            "Epoch 6/100\n",
            "97/97 [==============================] - 19s 192ms/step - loss: 0.2769 - acc: 0.8999 - val_loss: 1.2588 - val_acc: 0.6353\n",
            "Epoch 7/100\n",
            "97/97 [==============================] - 19s 192ms/step - loss: 0.2382 - acc: 0.9226 - val_loss: 1.3195 - val_acc: 0.6941\n",
            "Epoch 8/100\n",
            "97/97 [==============================] - 19s 194ms/step - loss: 0.1269 - acc: 0.9587 - val_loss: 1.0245 - val_acc: 0.7059\n",
            "Epoch 9/100\n",
            "97/97 [==============================] - 21s 216ms/step - loss: 0.1309 - acc: 0.9670 - val_loss: 1.2817 - val_acc: 0.7059\n",
            "Epoch 10/100\n",
            "97/97 [==============================] - 19s 197ms/step - loss: 0.1725 - acc: 0.9401 - val_loss: 1.1065 - val_acc: 0.7059\n",
            "Epoch 11/100\n",
            "97/97 [==============================] - 19s 198ms/step - loss: 0.0719 - acc: 0.9845 - val_loss: 1.2679 - val_acc: 0.7235\n",
            "Epoch 12/100\n",
            "97/97 [==============================] - 19s 195ms/step - loss: 0.0950 - acc: 0.9752 - val_loss: 1.0734 - val_acc: 0.7294\n",
            "Epoch 13/100\n",
            "97/97 [==============================] - 19s 192ms/step - loss: 0.0865 - acc: 0.9783 - val_loss: 1.2916 - val_acc: 0.7176\n",
            "Epoch 14/100\n",
            "97/97 [==============================] - 19s 193ms/step - loss: 0.0644 - acc: 0.9814 - val_loss: 1.0785 - val_acc: 0.7000\n",
            "Epoch 15/100\n",
            "97/97 [==============================] - 19s 191ms/step - loss: 0.1450 - acc: 0.9577 - val_loss: 1.1610 - val_acc: 0.7235\n",
            "Epoch 16/100\n",
            "97/97 [==============================] - 19s 191ms/step - loss: 0.1006 - acc: 0.9732 - val_loss: 1.3060 - val_acc: 0.6882\n",
            "Epoch 17/100\n",
            "97/97 [==============================] - 19s 192ms/step - loss: 0.1555 - acc: 0.9598 - val_loss: 1.7975 - val_acc: 0.6059\n",
            "Epoch 18/100\n",
            "97/97 [==============================] - 18s 189ms/step - loss: 0.0906 - acc: 0.9701 - val_loss: 1.3778 - val_acc: 0.7235\n",
            "Epoch 19/100\n",
            "97/97 [==============================] - 22s 223ms/step - loss: 0.0757 - acc: 0.9794 - val_loss: 1.2139 - val_acc: 0.7059\n",
            "Epoch 20/100\n",
            "97/97 [==============================] - 18s 189ms/step - loss: 0.0918 - acc: 0.9701 - val_loss: 2.1055 - val_acc: 0.6176\n",
            "Epoch 21/100\n",
            "97/97 [==============================] - 18s 189ms/step - loss: 0.1204 - acc: 0.9639 - val_loss: 1.6772 - val_acc: 0.7059\n",
            "Epoch 22/100\n",
            "97/97 [==============================] - 19s 191ms/step - loss: 0.0689 - acc: 0.9814 - val_loss: 1.5560 - val_acc: 0.7118\n",
            "Epoch 23/100\n",
            "97/97 [==============================] - 18s 189ms/step - loss: 0.0934 - acc: 0.9825 - val_loss: 1.8560 - val_acc: 0.6706\n",
            "Epoch 24/100\n",
            "97/97 [==============================] - 19s 192ms/step - loss: 0.0812 - acc: 0.9752 - val_loss: 2.2182 - val_acc: 0.6588\n",
            "Epoch 25/100\n",
            "97/97 [==============================] - 19s 193ms/step - loss: 0.1323 - acc: 0.9577 - val_loss: 1.8525 - val_acc: 0.6765\n",
            "Epoch 26/100\n",
            "97/97 [==============================] - 19s 191ms/step - loss: 0.1065 - acc: 0.9670 - val_loss: 1.8559 - val_acc: 0.6588\n",
            "Epoch 27/100\n",
            "97/97 [==============================] - 19s 193ms/step - loss: 0.0936 - acc: 0.9701 - val_loss: 2.1968 - val_acc: 0.6647\n",
            "Epoch 28/100\n",
            "97/97 [==============================] - 19s 191ms/step - loss: 0.0916 - acc: 0.9794 - val_loss: 2.0881 - val_acc: 0.6824\n",
            "Epoch 29/100\n",
            "97/97 [==============================] - 23s 236ms/step - loss: 0.0872 - acc: 0.9814 - val_loss: 1.7974 - val_acc: 0.6412\n",
            "Epoch 30/100\n",
            "97/97 [==============================] - 19s 194ms/step - loss: 0.0682 - acc: 0.9825 - val_loss: 1.8247 - val_acc: 0.6765\n",
            "Epoch 31/100\n",
            "97/97 [==============================] - 19s 191ms/step - loss: 0.0886 - acc: 0.9711 - val_loss: 1.8823 - val_acc: 0.6647\n",
            "Epoch 32/100\n",
            "97/97 [==============================] - 18s 188ms/step - loss: 0.1008 - acc: 0.9701 - val_loss: 2.0062 - val_acc: 0.6353\n",
            "Epoch 33/100\n",
            "97/97 [==============================] - 19s 193ms/step - loss: 0.0754 - acc: 0.9825 - val_loss: 1.9013 - val_acc: 0.6824\n",
            "Epoch 34/100\n",
            "97/97 [==============================] - 19s 191ms/step - loss: 0.0499 - acc: 0.9886 - val_loss: 2.1477 - val_acc: 0.6471\n",
            "Epoch 35/100\n",
            "97/97 [==============================] - 18s 190ms/step - loss: 0.0887 - acc: 0.9825 - val_loss: 2.1067 - val_acc: 0.7059\n",
            "Epoch 36/100\n",
            "97/97 [==============================] - 19s 190ms/step - loss: 0.0941 - acc: 0.9783 - val_loss: 1.9811 - val_acc: 0.6824\n",
            "Epoch 37/100\n",
            "97/97 [==============================] - 18s 189ms/step - loss: 0.1336 - acc: 0.9690 - val_loss: 2.2101 - val_acc: 0.6647\n",
            "Epoch 38/100\n",
            "97/97 [==============================] - 18s 190ms/step - loss: 0.1517 - acc: 0.9680 - val_loss: 2.2843 - val_acc: 0.6824\n",
            "Epoch 39/100\n",
            "97/97 [==============================] - 18s 189ms/step - loss: 0.1581 - acc: 0.9587 - val_loss: 2.1658 - val_acc: 0.6471\n",
            "Epoch 40/100\n",
            "97/97 [==============================] - 21s 212ms/step - loss: 0.1824 - acc: 0.9536 - val_loss: 2.5084 - val_acc: 0.6647\n",
            "Epoch 41/100\n",
            "97/97 [==============================] - 19s 192ms/step - loss: 0.1702 - acc: 0.9546 - val_loss: 4.1952 - val_acc: 0.6176\n",
            "Epoch 42/100\n",
            "97/97 [==============================] - 19s 191ms/step - loss: 0.2197 - acc: 0.9412 - val_loss: 2.9636 - val_acc: 0.5706\n",
            "Epoch 43/100\n",
            "97/97 [==============================] - 19s 192ms/step - loss: 0.1581 - acc: 0.9546 - val_loss: 2.1069 - val_acc: 0.6824\n",
            "Epoch 44/100\n",
            "97/97 [==============================] - 19s 193ms/step - loss: 0.0817 - acc: 0.9763 - val_loss: 2.1963 - val_acc: 0.6941\n",
            "Epoch 45/100\n",
            "97/97 [==============================] - 19s 191ms/step - loss: 0.0500 - acc: 0.9907 - val_loss: 2.8681 - val_acc: 0.6765\n",
            "Epoch 46/100\n",
            "97/97 [==============================] - 19s 191ms/step - loss: 0.0889 - acc: 0.9773 - val_loss: 2.3192 - val_acc: 0.7059\n",
            "Epoch 47/100\n",
            "97/97 [==============================] - 18s 190ms/step - loss: 0.0775 - acc: 0.9876 - val_loss: 3.1451 - val_acc: 0.6941\n",
            "Epoch 48/100\n",
            "97/97 [==============================] - 18s 189ms/step - loss: 0.1376 - acc: 0.9690 - val_loss: 2.2887 - val_acc: 0.6941\n",
            "Epoch 49/100\n",
            "97/97 [==============================] - 18s 189ms/step - loss: 0.0500 - acc: 0.9907 - val_loss: 3.1124 - val_acc: 0.7000\n",
            "Epoch 50/100\n",
            "97/97 [==============================] - 18s 190ms/step - loss: 0.1055 - acc: 0.9804 - val_loss: 2.2108 - val_acc: 0.6824\n",
            "Epoch 51/100\n",
            "97/97 [==============================] - 21s 212ms/step - loss: 0.0349 - acc: 0.9886 - val_loss: 2.7751 - val_acc: 0.6412\n",
            "Epoch 52/100\n",
            "97/97 [==============================] - 18s 189ms/step - loss: 0.0960 - acc: 0.9773 - val_loss: 2.5336 - val_acc: 0.6882\n",
            "Epoch 53/100\n",
            "97/97 [==============================] - 18s 188ms/step - loss: 0.1277 - acc: 0.9742 - val_loss: 2.7289 - val_acc: 0.6647\n",
            "Epoch 54/100\n",
            "97/97 [==============================] - 18s 189ms/step - loss: 0.0894 - acc: 0.9752 - val_loss: 2.4635 - val_acc: 0.6706\n",
            "Epoch 55/100\n",
            "97/97 [==============================] - 18s 189ms/step - loss: 0.1060 - acc: 0.9814 - val_loss: 3.5136 - val_acc: 0.6588\n",
            "Epoch 56/100\n",
            "97/97 [==============================] - 18s 187ms/step - loss: 0.0849 - acc: 0.9804 - val_loss: 2.6414 - val_acc: 0.6824\n",
            "Epoch 57/100\n",
            "97/97 [==============================] - 18s 188ms/step - loss: 0.0740 - acc: 0.9856 - val_loss: 2.6839 - val_acc: 0.7176\n",
            "Epoch 58/100\n",
            "97/97 [==============================] - 18s 188ms/step - loss: 0.1404 - acc: 0.9742 - val_loss: 2.9829 - val_acc: 0.7000\n",
            "Epoch 59/100\n",
            "97/97 [==============================] - 19s 190ms/step - loss: 0.1319 - acc: 0.9752 - val_loss: 2.5947 - val_acc: 0.6882\n",
            "Epoch 60/100\n",
            "97/97 [==============================] - 21s 213ms/step - loss: 0.1002 - acc: 0.9814 - val_loss: 2.8899 - val_acc: 0.6647\n",
            "Epoch 61/100\n",
            "97/97 [==============================] - 18s 188ms/step - loss: 0.1632 - acc: 0.9649 - val_loss: 2.6314 - val_acc: 0.6941\n",
            "Epoch 62/100\n",
            "97/97 [==============================] - 20s 208ms/step - loss: 0.0996 - acc: 0.9835 - val_loss: 3.5069 - val_acc: 0.6471\n",
            "Epoch 63/100\n",
            "97/97 [==============================] - 20s 209ms/step - loss: 0.1543 - acc: 0.9546 - val_loss: 3.4140 - val_acc: 0.6647\n",
            "Epoch 64/100\n",
            "97/97 [==============================] - 18s 188ms/step - loss: 0.1603 - acc: 0.9608 - val_loss: 2.8006 - val_acc: 0.6824\n",
            "Epoch 65/100\n",
            "97/97 [==============================] - 18s 185ms/step - loss: 0.0470 - acc: 0.9917 - val_loss: 2.9281 - val_acc: 0.6706\n",
            "Epoch 66/100\n",
            "97/97 [==============================] - 18s 188ms/step - loss: 0.0547 - acc: 0.9856 - val_loss: 2.6578 - val_acc: 0.7000\n",
            "Epoch 67/100\n",
            "97/97 [==============================] - 18s 188ms/step - loss: 0.0424 - acc: 0.9866 - val_loss: 2.9958 - val_acc: 0.6412\n",
            "Epoch 68/100\n",
            "97/97 [==============================] - 18s 188ms/step - loss: 0.1062 - acc: 0.9752 - val_loss: 3.5791 - val_acc: 0.6176\n",
            "Epoch 69/100\n",
            "97/97 [==============================] - 18s 186ms/step - loss: 0.0648 - acc: 0.9876 - val_loss: 2.7452 - val_acc: 0.7000\n",
            "Epoch 70/100\n",
            "97/97 [==============================] - 18s 188ms/step - loss: 0.0520 - acc: 0.9845 - val_loss: 2.5709 - val_acc: 0.7353\n",
            "Epoch 71/100\n",
            "97/97 [==============================] - 18s 187ms/step - loss: 0.0823 - acc: 0.9886 - val_loss: 4.1480 - val_acc: 0.6882\n",
            "Epoch 72/100\n",
            "97/97 [==============================] - 18s 189ms/step - loss: 0.0479 - acc: 0.9928 - val_loss: 2.7652 - val_acc: 0.6882\n",
            "Epoch 73/100\n",
            "97/97 [==============================] - 20s 207ms/step - loss: 0.0992 - acc: 0.9835 - val_loss: 2.7451 - val_acc: 0.6882\n",
            "Epoch 74/100\n",
            "97/97 [==============================] - 18s 189ms/step - loss: 0.1334 - acc: 0.9794 - val_loss: 2.7716 - val_acc: 0.7059\n",
            "Epoch 75/100\n",
            "97/97 [==============================] - 18s 190ms/step - loss: 0.0919 - acc: 0.9794 - val_loss: 3.2767 - val_acc: 0.7000\n",
            "Epoch 76/100\n",
            "97/97 [==============================] - 18s 190ms/step - loss: 0.1113 - acc: 0.9814 - val_loss: 3.7251 - val_acc: 0.7176\n",
            "Epoch 77/100\n",
            "97/97 [==============================] - 18s 188ms/step - loss: 0.1221 - acc: 0.9794 - val_loss: 3.3398 - val_acc: 0.6588\n",
            "Epoch 78/100\n",
            "97/97 [==============================] - 18s 187ms/step - loss: 0.1681 - acc: 0.9628 - val_loss: 4.2207 - val_acc: 0.6529\n",
            "Epoch 79/100\n",
            "97/97 [==============================] - 18s 186ms/step - loss: 0.1083 - acc: 0.9814 - val_loss: 3.4916 - val_acc: 0.6882\n",
            "Epoch 80/100\n",
            "97/97 [==============================] - 18s 187ms/step - loss: 0.0869 - acc: 0.9845 - val_loss: 3.4377 - val_acc: 0.6706\n",
            "Epoch 81/100\n",
            "97/97 [==============================] - 18s 186ms/step - loss: 0.1078 - acc: 0.9814 - val_loss: 4.9982 - val_acc: 0.6118\n",
            "Epoch 82/100\n",
            "97/97 [==============================] - 18s 185ms/step - loss: 0.1785 - acc: 0.9690 - val_loss: 3.0411 - val_acc: 0.6824\n",
            "Epoch 83/100\n",
            "97/97 [==============================] - 18s 186ms/step - loss: 0.1026 - acc: 0.9835 - val_loss: 3.1353 - val_acc: 0.6941\n",
            "Epoch 84/100\n",
            "97/97 [==============================] - 18s 187ms/step - loss: 0.0951 - acc: 0.9876 - val_loss: 3.3077 - val_acc: 0.7118\n",
            "Epoch 85/100\n",
            "97/97 [==============================] - 19s 190ms/step - loss: 0.0125 - acc: 0.9959 - val_loss: 3.0417 - val_acc: 0.7176\n",
            "Epoch 86/100\n",
            "97/97 [==============================] - 18s 188ms/step - loss: 0.0652 - acc: 0.9928 - val_loss: 3.9668 - val_acc: 0.6765\n",
            "Epoch 87/100\n",
            "97/97 [==============================] - 18s 187ms/step - loss: 0.1323 - acc: 0.9783 - val_loss: 3.5612 - val_acc: 0.6765\n",
            "Epoch 88/100\n",
            "97/97 [==============================] - 18s 188ms/step - loss: 0.0403 - acc: 0.9928 - val_loss: 3.2598 - val_acc: 0.7000\n",
            "Epoch 89/100\n",
            "97/97 [==============================] - 18s 187ms/step - loss: 0.0986 - acc: 0.9856 - val_loss: 4.1915 - val_acc: 0.6059\n",
            "Epoch 90/100\n",
            "97/97 [==============================] - 18s 185ms/step - loss: 0.1586 - acc: 0.9804 - val_loss: 3.3004 - val_acc: 0.6706\n",
            "Epoch 91/100\n",
            "97/97 [==============================] - 18s 188ms/step - loss: 0.0673 - acc: 0.9897 - val_loss: 3.2391 - val_acc: 0.6824\n",
            "Epoch 92/100\n",
            "97/97 [==============================] - 19s 190ms/step - loss: 0.0828 - acc: 0.9856 - val_loss: 3.4563 - val_acc: 0.6588\n",
            "Epoch 93/100\n",
            "97/97 [==============================] - 18s 187ms/step - loss: 0.0761 - acc: 0.9866 - val_loss: 3.3207 - val_acc: 0.7118\n",
            "Epoch 94/100\n",
            "97/97 [==============================] - 18s 189ms/step - loss: 0.0960 - acc: 0.9897 - val_loss: 3.5292 - val_acc: 0.6765\n",
            "Epoch 95/100\n",
            "97/97 [==============================] - 18s 190ms/step - loss: 0.0750 - acc: 0.9866 - val_loss: 4.4016 - val_acc: 0.5941\n",
            "Epoch 96/100\n",
            "97/97 [==============================] - 20s 201ms/step - loss: 0.0825 - acc: 0.9866 - val_loss: 4.3764 - val_acc: 0.6765\n",
            "Epoch 97/100\n",
            "97/97 [==============================] - 18s 188ms/step - loss: 0.1185 - acc: 0.9856 - val_loss: 4.6414 - val_acc: 0.6294\n",
            "Epoch 98/100\n",
            "97/97 [==============================] - 18s 188ms/step - loss: 0.0617 - acc: 0.9917 - val_loss: 4.3458 - val_acc: 0.6176\n",
            "Epoch 99/100\n",
            "97/97 [==============================] - 18s 189ms/step - loss: 0.0824 - acc: 0.9917 - val_loss: 3.8459 - val_acc: 0.7059\n",
            "Epoch 100/100\n",
            "97/97 [==============================] - 18s 189ms/step - loss: 0.0458 - acc: 0.9897 - val_loss: 3.8171 - val_acc: 0.6941\n"
          ]
        }
      ]
    },
    {
      "cell_type": "code",
      "source": [
        "model1.save('body.h5')"
      ],
      "metadata": {
        "id": "hboHxB6NvBEq"
      },
      "execution_count": null,
      "outputs": []
    },
    {
      "cell_type": "code",
      "source": [
        "from tensorflow.keras.models import load_model\n",
        "import cv2\n",
        "from skimage.transform import resize"
      ],
      "metadata": {
        "id": "ee84mpvk3b-d"
      },
      "execution_count": 2,
      "outputs": []
    },
    {
      "cell_type": "code",
      "source": [
        "model=load_model('/content/drive/MyDrive/body.h5/')"
      ],
      "metadata": {
        "id": "OfFdfXNh3qUi"
      },
      "execution_count": 5,
      "outputs": []
    },
    {
      "cell_type": "code",
      "source": [
        "def detect(frame):\n",
        "    img = cv2.resize(frame,(256,256)) #resizing the image to model trained image size\n",
        "    img = cv2.cvtColor(img,cv2.COLOR_BGR2RGB) # uploaded image is in the form of BGR,so convert to RGB\n",
        "    # scaling need to be done\n",
        "    if(np.max(img)>1):\n",
        "        img = img/255.0\n",
        "    img = np.array([img]) #then to array fpormat\n",
        "    prediction = model. predict (img)\n",
        "    print(prediction)\n",
        "    label = [\"front\",\"rear\",\"side\"]\n",
        "    preds = label[np.argmax(prediction)]\n",
        "    return preds"
      ],
      "metadata": {
        "id": "nE2h2L933xXH"
      },
      "execution_count": 6,
      "outputs": []
    },
    {
      "cell_type": "code",
      "source": [
        "import numpy as np"
      ],
      "metadata": {
        "id": "uchb9joQ4PuG"
      },
      "execution_count": 7,
      "outputs": []
    },
    {
      "cell_type": "code",
      "source": [
        "data = '/content/drive/MyDrive/Colab Notebooks/damage-to-back-of-car.jpg'\n",
        "image = cv2.imread(data)\n",
        "print (detect(image))"
      ],
      "metadata": {
        "colab": {
          "base_uri": "https://localhost:8080/"
        },
        "id": "A-ywd7Uf4YB8",
        "outputId": "87ce1c30-bae8-451b-ec0d-d9b26f604657"
      },
      "execution_count": 8,
      "outputs": [
        {
          "output_type": "stream",
          "name": "stdout",
          "text": [
            "1/1 [==============================] - 8s 8s/step\n",
            "[[2.1170254e-06 9.9999785e-01 1.8356752e-22]]\n",
            "rear\n"
          ]
        }
      ]
    },
    {
      "cell_type": "code",
      "source": [],
      "metadata": {
        "id": "S3z1_2nM45Nu"
      },
      "execution_count": null,
      "outputs": []
    }
  ]
}